{
 "cells": [
  {
   "cell_type": "code",
   "execution_count": 2,
   "metadata": {},
   "outputs": [],
   "source": [
    "from bs4 import BeautifulSoup as soup\n",
    "from urllib.request import urlopen as uReq"
   ]
  },
  {
   "cell_type": "code",
   "execution_count": 3,
   "metadata": {},
   "outputs": [],
   "source": [
    "my_url ='https://www.flipkart.com/search?q=iphones&otracker=search&otracker1=search&marketplace=FLIPKART&as-show=on&as=off&as-pos=0&as-type=HISTORY'"
   ]
  },
  {
   "cell_type": "code",
   "execution_count": 4,
   "metadata": {},
   "outputs": [],
   "source": [
    "uClient = uReq(my_url)\n",
    "page_html=uClient.read()\n",
    "uClient.close()"
   ]
  },
  {
   "cell_type": "code",
   "execution_count": 6,
   "metadata": {},
   "outputs": [],
   "source": [
    "page_soup=soup(page_html,\"html.parser\")"
   ]
  },
  {
   "cell_type": "code",
   "execution_count": 11,
   "metadata": {},
   "outputs": [],
   "source": [
    "containers = page_soup.findAll(\"div\",{\"class\":\"_3O0U0u\"})\n",
    "#print (len(containers))\n",
    "#print (soup.prettify(containers[0]))"
   ]
  },
  {
   "cell_type": "code",
   "execution_count": 12,
   "metadata": {},
   "outputs": [
    {
     "name": "stdout",
     "output_type": "stream",
     "text": [
      "Apple iPhone 6s (Gold, 32 GB)\n"
     ]
    }
   ],
   "source": [
    "container = containers[0]\n",
    "#print (container.div.img[\"alt\"])\n",
    "print (container.div.img[\"alt\"])"
   ]
  },
  {
   "cell_type": "code",
   "execution_count": 13,
   "metadata": {},
   "outputs": [
    {
     "name": "stdout",
     "output_type": "stream",
     "text": [
      "₹29,799₹29,900Up to ₹17,900 Off on ExchangeEMI starting from ₹990/monthOffersNo Cost EMISpecial PriceBank Offer\n"
     ]
    }
   ],
   "source": [
    "price=container.findAll(\"div\",{\"class\":\"col col-5-12 _2o7WAb\"})\n",
    "print (price[0].text)"
   ]
  },
  {
   "cell_type": "code",
   "execution_count": 14,
   "metadata": {},
   "outputs": [
    {
     "name": "stdout",
     "output_type": "stream",
     "text": [
      "4.515,113 Ratings & 1,598 Reviews\n"
     ]
    }
   ],
   "source": [
    "ratings=container.findAll(\"div\",{\"class\":\"niH0FQ\"})\n",
    "print (ratings[0].text)"
   ]
  },
  {
   "cell_type": "code",
   "execution_count": 15,
   "metadata": {},
   "outputs": [
    {
     "name": "stdout",
     "output_type": "stream",
     "text": [
      "32 GB ROM |11.94 cm (4.7 inch) Retina HD Display12MP Rear Camera | 5MP Front CameraApple A9 64-bit processor and Embedded M9 Motion Co-processorBrand Warranty of 1 Year\n"
     ]
    }
   ],
   "source": [
    "feat=container.findAll(\"div\",{\"class\":\"_3ULzGw\"})\n",
    "print (feat[0].text)"
   ]
  },
  {
   "cell_type": "code",
   "execution_count": 16,
   "metadata": {},
   "outputs": [
    {
     "data": {
      "text/plain": [
       "36"
      ]
     },
     "execution_count": 16,
     "metadata": {},
     "output_type": "execute_result"
    }
   ],
   "source": [
    "filename = \"products.csv\"\n",
    "f=open(filename,\"w\")\n",
    "headers=\"product_name,Price,Ratings,features\\n\"\n",
    "f.write(headers)\n"
   ]
  },
  {
   "cell_type": "code",
   "execution_count": 20,
   "metadata": {},
   "outputs": [
    {
     "name": "stdout",
     "output_type": "stream",
     "text": [
      "Apple iPhone 6s (Gold| 32 GB),Rs.29799,4.515\n",
      "\n",
      "Apple iPhone X (Space Gray| 64 GB),Rs.59990,4.66\n",
      "\n",
      "Apple iPhone 6s (Rose Gold| 32 GB),Rs.29799,4.515\n",
      "\n",
      "Apple iPhone XR (Black| 64 GB),Rs.59999,4.62\n",
      "\n",
      "Apple iPhone XR (Black| 128 GB),Rs.64999,4.62\n",
      "\n",
      "Apple iPhone 6s (Space Grey| 32 GB),Rs.29799,4.525\n",
      "\n",
      "Apple iPhone XR (White| 64 GB),Rs.59999,4.62\n",
      "\n",
      "Apple iPhone XR ((PRODUCT)RED| 64 GB),Rs.59999,4.62\n",
      "\n",
      "Apple iPhone 8 (Silver| 64 GB),Rs.46999,4.62\n",
      "\n",
      "Apple iPhone XR (White| 128 GB),Rs.64999,4.62\n",
      "\n",
      "Apple iPhone 6 (Space Grey| 32 GB),Rs.27699,4.459\n",
      "\n",
      "Apple iPhone 6s (Silver| 32 GB),Rs.29799,4.55\n",
      "\n",
      "Apple iPhone 8 (Gold| 64 GB),Rs.46999,4.62\n",
      "\n",
      "Apple iPhone 8 Plus (Space Grey| 64 GB),Rs.61499,4.63\n",
      "\n",
      "Apple iPhone 8 Plus (PRODUCT)RED (Red| 256 GB),Rs.62999,4.6123 Ratings & 12 Reviews\n",
      "\n",
      "Apple iPhone 8 (PRODUCT)RED (Red| 64 GB),Rs.53499,4.791 Ratings & 9 Reviews\n",
      "\n",
      "Apple iPhone 8 Plus (Gold| 64 GB),Rs.58900,4.63\n",
      "\n",
      "Apple iPhone XR (Blue| 128 GB),Rs.65399,4.62\n",
      "\n",
      "Apple iPhone 8 (Space Grey| 256 GB),Rs.70990,4.62\n",
      "\n",
      "Apple iPhone XR (Coral| 64 GB),Rs.59490,4.62\n",
      "\n",
      "Apple iPhone 6s Plus (Silver| 16 GB),Rs.39990,4.3429 Ratings & 56 Reviews\n",
      "\n",
      "Apple iPhone 8 (Silver| 256 GB),Rs.64660,4.62\n",
      "\n",
      "Apple iPhone 8 Plus (Space Grey| 256 GB),Rs.62999,4.63\n",
      "\n",
      "Apple iPhone 8 Plus (PRODUCT)RED (Red| 64 GB),Rs.51999,4.6123 Ratings & 12 Reviews\n",
      "\n"
     ]
    }
   ],
   "source": [
    "for container in containers:\n",
    "    product_name = container.div.img[\"alt\"]\n",
    "    price_container=container.findAll(\"div\",{\"class\":\"col col-5-12 _2o7WAb\"})\n",
    "    price=price_container[0].text.strip()\n",
    "    rating_container=container.findAll(\"div\",{\"class\":\"niH0FQ\"})\n",
    "    rating=rating_container[0].text\n",
    "    #print (\"Product Name:\",product_name)\n",
    "    #print (\"Price:\",price)\n",
    "    #print (\"Ratings:\",rating)\n",
    "    #String Parsing\n",
    "    trim_price=''.join(price.split(','))\n",
    "    rm_rupee=trim_price.split(\"₹\")\n",
    "    add_rs_price=\"Rs.\"+rm_rupee[1]\n",
    "    split_price=add_rs_price.split('E')\n",
    "    final_price=split_price[0]\n",
    "    split_rating=rating.split(\",\")\n",
    "    final_rating=split_rating[0]\n",
    "    print (product_name.replace(\",\",\"|\")+\",\"+final_price+\",\"+final_rating+\"\\n\")\n",
    "    f.write(product_name.replace(\",\",\"|\")+\",\"+final_price+\",\"+final_rating+\"\\n\")\n",
    "f.close()    "
   ]
  },
  {
   "cell_type": "code",
   "execution_count": null,
   "metadata": {},
   "outputs": [],
   "source": [
    "\n",
    "\n"
   ]
  }
 ],
 "metadata": {
  "kernelspec": {
   "display_name": "Python 3",
   "language": "python",
   "name": "python3"
  },
  "language_info": {
   "codemirror_mode": {
    "name": "ipython",
    "version": 3
   },
   "file_extension": ".py",
   "mimetype": "text/x-python",
   "name": "python",
   "nbconvert_exporter": "python",
   "pygments_lexer": "ipython3",
   "version": "3.7.3"
  }
 },
 "nbformat": 4,
 "nbformat_minor": 2
}
